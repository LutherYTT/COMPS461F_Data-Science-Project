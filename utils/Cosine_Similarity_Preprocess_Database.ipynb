{
 "cells": [
  {
   "cell_type": "code",
   "execution_count": null,
   "metadata": {
    "vscode": {
     "languageId": "plaintext"
    }
   },
   "outputs": [],
   "source": [
    "import pandas as pd\n",
    "from itertools import combinations\n",
    "\n",
    "df = pd.read_csv('7select_Product.csv')\n",
    "max_combine = 3\n",
    "# 生成1-3為一組的組合\n",
    "all_combinations = []\n",
    "for r in range(1, max_combine+1):\n",
    "    for combo in combinations(df.iterrows(), r):\n",
    "        dishes = [item[1] for item in combo]\n",
    "        dishes_name = ','.join(set(dish['ProductName'] for dish in dishes))\n",
    "        sum_Energy = sum(dish['Energy'] for dish in dishes)\n",
    "        sum_Protein = sum(dish['Protein'] for dish in dishes)\n",
    "        sum_TotalFat = sum(dish['TotalFat'] for dish in dishes)\n",
    "        sum_SaturatedFat = sum(dish['SaturatedFat'] for dish in dishes)\n",
    "        sum_TransFat = sum(dish['TransFat'] for dish in dishes)\n",
    "        sum_Carbohydrate = sum(dish['Carbohydrate'] for dish in dishes)\n",
    "        sum_Sugars = sum(dish['Sugars'] for dish in dishes)\n",
    "        sum_Sodium = sum(dish['Sodium'] for dish in dishes)\n",
    "        types = ','.join(sorted(set(dish['Type'] for dish in dishes)))\n",
    "        all_combinations.append({\n",
    "            #'Dishes': [dish['ProductName'] for dish in dishes],\n",
    "            'Dishes': dishes_name,\n",
    "            'sum_Energy': sum_Energy,\n",
    "            'sum_Protein': sum_Protein,\n",
    "            'sum_TotalFat': sum_TotalFat,\n",
    "            'sum_SaturatedFat': sum_SaturatedFat,\n",
    "            'sum_TransFat': sum_TransFat,\n",
    "            'sum_Carbohydrate': sum_Carbohydrate,\n",
    "            'sum_Sugars': sum_Sugars,\n",
    "            'sum_Sodium': sum_Sodium,\n",
    "            'Types': types\n",
    "        })\n",
    "\n",
    "combo_df = pd.DataFrame(all_combinations)\n",
    "\n",
    "combo_df.to_csv(\"7select_Product_preprocess.csv\", sep=',', encoding='utf-8')\n",
    "\n",
    "print(\"已預處理\")"
   ]
  }
 ],
 "metadata": {
  "language_info": {
   "name": "python"
  }
 },
 "nbformat": 4,
 "nbformat_minor": 2
}
