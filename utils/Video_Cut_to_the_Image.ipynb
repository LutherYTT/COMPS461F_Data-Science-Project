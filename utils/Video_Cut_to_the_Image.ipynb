{
 "cells": [
  {
   "cell_type": "code",
   "execution_count": null,
   "metadata": {},
   "outputs": [
    {
     "name": "stdout",
     "output_type": "stream",
     "text": [
      "提取了 15 張圖。\n"
     ]
    }
   ],
   "source": [
    "import cv2\n",
    "import os\n",
    "\n",
    "def extract_frames(video_path, output_folder, interval=0.2):\n",
    "    # interval=0.2 代表每0.2秒cut一張\n",
    "\n",
    "    # 創建output folder\n",
    "    if not os.path.exists(output_folder):\n",
    "        os.makedirs(output_folder)\n",
    "    # 拿video\n",
    "    cap = cv2.VideoCapture(video_path)\n",
    "    # 拿video的fps\n",
    "    fps = cap.get(cv2.CAP_PROP_FPS)\n",
    "    # 根據所需的 時間間隔 來找需要cut落的間隔\n",
    "    frame_interval = int(fps * interval)\n",
    "\n",
    "    frame_count = 0\n",
    "    saved_count = 0\n",
    "\n",
    "    while True:\n",
    "        # 從video中讀取一frame\n",
    "        ret, frame = cap.read()\n",
    "        # 如果沒有frame可讀\n",
    "        if not ret:\n",
    "            break\n",
    "        # 如果是需要的間隔，保存\n",
    "        if frame_count % frame_interval == 0:\n",
    "            output_file = os.path.join(output_folder, f\"frame_{saved_count:04d}.jpg\")\n",
    "            cv2.imwrite(output_file, frame)\n",
    "            saved_count += 1\n",
    "        frame_count += 1\n",
    "    cap.release()\n",
    "    print(f\"提取了 {saved_count} 張圖。\")\n",
    "\n",
    "\n",
    "extract_frames('C:/Users/luyuk/Downloads/model_generated_by_sudoai.mp4', 'output_frames', interval=0.2)\n"
   ]
  }
 ],
 "metadata": {
  "kernelspec": {
   "display_name": "Python 3",
   "language": "python",
   "name": "python3"
  },
  "language_info": {
   "codemirror_mode": {
    "name": "ipython",
    "version": 3
   },
   "file_extension": ".py",
   "mimetype": "text/x-python",
   "name": "python",
   "nbconvert_exporter": "python",
   "pygments_lexer": "ipython3",
   "version": "3.10.10"
  }
 },
 "nbformat": 4,
 "nbformat_minor": 2
}
