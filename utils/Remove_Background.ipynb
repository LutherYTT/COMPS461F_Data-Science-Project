{
 "cells": [
  {
   "cell_type": "markdown",
   "metadata": {},
   "source": [
    "## Only Remove Background"
   ]
  },
  {
   "cell_type": "code",
   "execution_count": null,
   "metadata": {},
   "outputs": [
    {
     "name": "stderr",
     "output_type": "stream",
     "text": [
      "Downloading data from 'https://github.com/danielgatis/rembg/releases/download/v0.0.0/u2net.onnx' to file 'C:\\Users\\luyuk\\.u2net\\u2net.onnx'.\n",
      "100%|########################################| 176M/176M [00:00<00:00, 176GB/s]\n"
     ]
    },
    {
     "name": "stdout",
     "output_type": "stream",
     "text": [
      "Successfully processed: AssortedSalad.jpg -> AssortedSalad.png\n",
      "Successfully processed: BaconEggMayoSandwich.jpg -> BaconEggMayoSandwich.png\n",
      "Successfully processed: BasilGarlicChickenBreast (2).jpg -> BasilGarlicChickenBreast (2).png\n",
      "Successfully processed: BasilGarlicChickenBreast.jpg -> BasilGarlicChickenBreast.png\n",
      "Successfully processed: BlackPepperChickenBreast.jpg -> BlackPepperChickenBreast.png\n",
      "Successfully processed: CaesarChickenColdWrap.jpg -> CaesarChickenColdWrap.png\n",
      "Successfully processed: ChefSalad.jpg -> ChefSalad.png\n",
      "Successfully processed: ChickenCaesarSalad.jpg -> ChickenCaesarSalad.png\n",
      "Successfully processed: Cut-FruitCupHealthyMix.jpg -> Cut-FruitCupHealthyMix.png\n",
      "Successfully processed: Cut-FruitCupSeasonalMix.jpg -> Cut-FruitCupSeasonalMix.png\n",
      "Successfully processed: FrenchStyleTunaEggSalad.jpg -> FrenchStyleTunaEggSalad.png\n",
      "Successfully processed: HamCheesePickleSandwich.jpg -> HamCheesePickleSandwich.png\n",
      "Successfully processed: HerbsChickenBreast.jpg -> HerbsChickenBreast.png\n",
      "Successfully processed: PekingDuckColdWrap.jpg -> PekingDuckColdWrap.png\n",
      "Successfully processed: SesameChickenWithBabySpinachColdWrap.jpg -> SesameChickenWithBabySpinachColdWrap.png\n",
      "Successfully processed: SmokedSalmonEggMayoSandwich.jpg -> SmokedSalmonEggMayoSandwich.png\n",
      "Successfully processed: SmokedSalmonEggSaladColdWrap.jpg -> SmokedSalmonEggSaladColdWrap.png\n",
      "Successfully processed: SuperClubSandwich.jpg -> SuperClubSandwich.png\n",
      "Finished processing images.\n"
     ]
    }
   ],
   "source": [
    "import os\n",
    "from rembg import remove\n",
    "from PIL import Image\n",
    "\n",
    "def remove_background_and_convert_to_png(input_folder, output_folder):\n",
    "    if not os.path.exists(output_folder):\n",
    "        os.makedirs(output_folder)\n",
    "\n",
    "    for filename in os.listdir(input_folder):\n",
    "        if filename.endswith(('.jpg', '.jpeg', '.png', '.gif', '.bmp')):\n",
    "            input_path = os.path.join(input_folder, filename)\n",
    "            output_filename = os.path.splitext(filename)[0] + '.png'\n",
    "            output_path = os.path.join(output_folder, output_filename)\n",
    "\n",
    "            try:\n",
    "                input_image = Image.open(input_path)\n",
    "                output_image = remove(input_image)\n",
    "                output_image.save(output_path, 'PNG')\n",
    "                print(f\"Successfully processed: {filename} -> {output_filename}\")\n",
    "            except Exception as e:\n",
    "                print(f\"Error processing {filename}: {e}\")\n",
    "\n",
    "if __name__ == \"__main__\":\n",
    "    input_folder = 'RemoveBackgroundInput'\n",
    "    output_folder = 'RemoveBackgroundOutput'\n",
    "    remove_background_and_convert_to_png(input_folder, output_folder)\n",
    "    print(\"Finished processing images.\")\n"
   ]
  },
  {
   "cell_type": "markdown",
   "metadata": {},
   "source": [
    "## Remove Background & Cutout the blank area"
   ]
  },
  {
   "cell_type": "code",
   "execution_count": null,
   "metadata": {},
   "outputs": [
    {
     "name": "stdout",
     "output_type": "stream",
     "text": [
      "Successfully processed: 01.png -> 01.png\n",
      "Successfully processed: 02.png -> 02.png\n",
      "Successfully processed: 03.png -> 03.png\n",
      "Successfully processed: 04.png -> 04.png\n",
      "Successfully processed: 05.png -> 05.png\n",
      "Finished processing images.\n"
     ]
    }
   ],
   "source": [
    "import os\n",
    "from rembg import remove\n",
    "from PIL import Image, ImageChops\n",
    "\n",
    "# 剪掉空白的位置\n",
    "def trim_image(image):\n",
    "    bg = Image.new(image.mode, image.size, image.getpixel((0, 0)))\n",
    "    diff = ImageChops.difference(image, bg) # 增加對比度，以提高偵測效果\n",
    "    diff = ImageChops.add(diff, diff, 2.0)  \n",
    "    bbox = diff.getbbox()\n",
    "    if bbox:\n",
    "        return image.crop(bbox)\n",
    "    else:\n",
    "        return image  # 如果沒有明顯差異，則返回原始影像\n",
    "\n",
    "# 去背\n",
    "def remove_background_and_convert_to_png(input_folder, output_folder):\n",
    "    if not os.path.exists(output_folder):\n",
    "        os.makedirs(output_folder)\n",
    "\n",
    "    for filename in os.listdir(input_folder):\n",
    "        if filename.endswith(('.jpg', '.jpeg', '.png', '.gif', '.bmp')):\n",
    "            input_path = os.path.join(input_folder, filename)\n",
    "            output_filename = os.path.splitext(filename)[0] + '.png'  # Change extension to .png\n",
    "            output_path = os.path.join(output_folder, output_filename)\n",
    "            try:\n",
    "                input_image = Image.open(input_path)\n",
    "                # 去背\n",
    "                output_image = remove(input_image)\n",
    "                # 剪掉空白的位置\n",
    "                trimmed_image = trim_image(output_image)\n",
    "                # output\n",
    "                trimmed_image.save(output_path, 'PNG')\n",
    "                print(f\"Background Removed: {filename} -> {output_filename}\")\n",
    "            except Exception as e:\n",
    "                print(f\"Error {filename}: {e}\")\n",
    "\n",
    "if __name__ == \"__main__\":\n",
    "    input_folder = 'RemoveBackgroundInput' \n",
    "    output_folder = 'RemoveBackgroundOutput' \n",
    "    remove_background_and_convert_to_png(input_folder, output_folder)\n",
    "    print(\"Finished.\")\n"
   ]
  }
 ],
 "metadata": {
  "kernelspec": {
   "display_name": "Python 3",
   "language": "python",
   "name": "python3"
  },
  "language_info": {
   "codemirror_mode": {
    "name": "ipython",
    "version": 3
   },
   "file_extension": ".py",
   "mimetype": "text/x-python",
   "name": "python",
   "nbconvert_exporter": "python",
   "pygments_lexer": "ipython3",
   "version": "3.10.11"
  }
 },
 "nbformat": 4,
 "nbformat_minor": 2
}
